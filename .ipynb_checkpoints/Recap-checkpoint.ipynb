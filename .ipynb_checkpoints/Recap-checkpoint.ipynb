{
 "cells": [
  {
   "cell_type": "code",
   "execution_count": 5,
   "metadata": {},
   "outputs": [],
   "source": [
    "import random\n",
    "def whosnext():\n",
    "    students = [\"Gilles\", \"Joseph\", \"Xicheng\", \"Cristobal\", \"Nicholas\", \"Nayoung\", \"Elizabeth\", \"Kevser\", \"Phuong\", \"Bryan\"]\n",
    "    print(random.choice(students))"
   ]
  },
  {
   "cell_type": "markdown",
   "metadata": {},
   "source": [
    "# Reboot - Python Basics\n",
    "\n",
    "This is a set of small independent assignments to recap the concepts of the day.\n",
    "\n",
    "## 1. Variables\n",
    "\n",
    "Create a `country` variable and assign your favorite country to it. Print it"
   ]
  },
  {
   "cell_type": "code",
   "execution_count": 8,
   "metadata": {
    "tags": [
     "challengify"
    ]
   },
   "outputs": [
    {
     "data": {
      "text/plain": [
       "'USA'"
      ]
     },
     "execution_count": 8,
     "metadata": {},
     "output_type": "execute_result"
    }
   ],
   "source": [
    "# YOUR CODE HERE\n",
    "country = \"USA\"\n",
    "country"
   ]
  },
  {
   "cell_type": "markdown",
   "metadata": {},
   "source": [
    "Create an `animal` variable and assign your favorite animal to it. Print it"
   ]
  },
  {
   "cell_type": "code",
   "execution_count": 9,
   "metadata": {
    "tags": [
     "challengify"
    ]
   },
   "outputs": [
    {
     "name": "stdout",
     "output_type": "stream",
     "text": [
      "Dog\n"
     ]
    }
   ],
   "source": [
    "# YOUR CODE HERE\n",
    "animal = \"Dog\"\n",
    "print(animal)"
   ]
  },
  {
   "cell_type": "markdown",
   "metadata": {},
   "source": [
    "Create an `animal_count` variable with any positive integer in it. Print it"
   ]
  },
  {
   "cell_type": "code",
   "execution_count": 10,
   "metadata": {
    "tags": [
     "challengify"
    ]
   },
   "outputs": [
    {
     "name": "stdout",
     "output_type": "stream",
     "text": [
      "2\n"
     ]
    }
   ],
   "source": [
    "# YOUR CODE HERE\n",
    "animal_count = 2\n",
    "print(animal_count)"
   ]
  },
  {
   "cell_type": "markdown",
   "metadata": {},
   "source": [
    "Print out a string using all your variables that follows this format:\n",
    "`\"I just ordered 200 monkeys from Denmark\"`\n",
    "\n",
    "**Hint**: use interpolation"
   ]
  },
  {
   "cell_type": "code",
   "execution_count": 13,
   "metadata": {
    "tags": [
     "challengify"
    ]
   },
   "outputs": [
    {
     "data": {
      "text/plain": [
       "'I just ordered 2 dogs from the USA'"
      ]
     },
     "execution_count": 13,
     "metadata": {},
     "output_type": "execute_result"
    }
   ],
   "source": [
    "# YOUR CODE HERE\n",
    "f\"I just ordered {animal_count} {animal.lower()}s from the {country}\""
   ]
  },
  {
   "cell_type": "markdown",
   "metadata": {},
   "source": [
    "---\n",
    "## 2. Data Types\n",
    "Now it's time to talk about data types. The first question to ask yourself before starting any coding task, is to determine which data types you're working with.\n",
    "\n",
    "Run the following cells and pay attention to the variables initialized:"
   ]
  },
  {
   "cell_type": "code",
   "execution_count": 15,
   "metadata": {},
   "outputs": [
    {
     "name": "stdout",
     "output_type": "stream",
     "text": [
      "Variables are now defined!\n",
      "Phuong\n"
     ]
    }
   ],
   "source": [
    "pi = 3.14\n",
    "food = 'pizza'\n",
    "colors = ['red', 'blue', 'yellow']\n",
    "print(\"Variables are now defined!\")\n",
    "whosnext()"
   ]
  },
  {
   "cell_type": "markdown",
   "metadata": {},
   "source": [
    "Assign each variable's correct data types (`str`, `float`, `list`) to new variables called `pi_type`, `food_type`, and `colors_type`. Then run the lower cell. \n",
    "\n",
    "The cell should display `True` when you define the right data types."
   ]
  },
  {
   "cell_type": "code",
   "execution_count": 16,
   "metadata": {},
   "outputs": [],
   "source": [
    "pi_type = float\n",
    "food_type = str\n",
    "colors_type = list"
   ]
  },
  {
   "cell_type": "code",
   "execution_count": 17,
   "metadata": {},
   "outputs": [
    {
     "data": {
      "text/plain": [
       "True"
      ]
     },
     "execution_count": 17,
     "metadata": {},
     "output_type": "execute_result"
    }
   ],
   "source": [
    "type(pi) == pi_type \\\n",
    "and type(food) == food_type \\\n",
    "and type(colors) == colors_type"
   ]
  },
  {
   "cell_type": "markdown",
   "metadata": {},
   "source": [
    "Let's try to work with other data types. This time there's no hint."
   ]
  },
  {
   "cell_type": "code",
   "execution_count": 18,
   "metadata": {},
   "outputs": [
    {
     "name": "stdout",
     "output_type": "stream",
     "text": [
      "Variables are now defined!\n"
     ]
    }
   ],
   "source": [
    "user_profile = {'email': 'buffy@gmail.com', 'age': 19, 'password': 'hunter2', 'profession': 'Vampire Slayer' }\n",
    "shapes = ('square', 'round', 'hexagonic')\n",
    "age = 25\n",
    "age_valid = (age < 18)\n",
    "print(\"Variables are now defined!\")"
   ]
  },
  {
   "cell_type": "markdown",
   "metadata": {},
   "source": [
    "Let's repeat the exercise from before with the new variables. Start by defining `user_profile_type`, `shapes_type`, and `age_valid_type`. Once again, the cell should display `True` when you're done."
   ]
  },
  {
   "cell_type": "code",
   "execution_count": 19,
   "metadata": {},
   "outputs": [],
   "source": [
    "user_profile_type = dict\n",
    "shapes_type = tuple\n",
    "age_valid_type = bool"
   ]
  },
  {
   "cell_type": "code",
   "execution_count": 20,
   "metadata": {},
   "outputs": [
    {
     "data": {
      "text/plain": [
       "True"
      ]
     },
     "execution_count": 20,
     "metadata": {},
     "output_type": "execute_result"
    }
   ],
   "source": [
    "type(shapes) == shapes_type \\\n",
    "and type(user_profile) == user_profile_type \\\n",
    "and type(age_valid) == age_valid_type"
   ]
  },
  {
   "cell_type": "markdown",
   "metadata": {},
   "source": [
    "---\n",
    "\n",
    "## 3. Functions\n",
    "\n",
    "Create a fuction `credit_card_industry` which takes one parameter (a `str` storing a credit card number like `\"4242 4242 4242 4242\"` for instance) and **return** one of the following industries:\n",
    "\n",
    "- Airline\n",
    "- Visa\n",
    "- Mastercard\n",
    "- Other\n",
    "\n",
    "This [article](https://www.thebalance.com/what-do-the-numbers-on-your-credit-card-mean-4588401) will prove handy if you don't know how to determine this from the number."
   ]
  },
  {
   "cell_type": "code",
   "execution_count": 21,
   "metadata": {
    "tags": [
     "challengify"
    ]
   },
   "outputs": [],
   "source": [
    "# YOUR CODE HERE\n",
    "def credit_card_industry(card_number):\n",
    "    industry_numbers = {\n",
    "        '1': 'Airline',\n",
    "        '4': 'Visa',\n",
    "        '5': 'Mastercard'\n",
    "    }\n",
    "    return industry_numbers.get(card_number[0], 'Other')"
   ]
  },
  {
   "cell_type": "markdown",
   "metadata": {},
   "source": [
    "Call this function and **print** the result for the following card numbers:\n",
    "\n",
    "- `\"4539 0132 4843 4768\"`\n",
    "- `\"5131 9376 6800 4058\"`\n",
    "- `\"3762 8789 1971 1060\"`\n",
    "- `\"1002 0494 8191 1719\"`"
   ]
  },
  {
   "cell_type": "code",
   "execution_count": 22,
   "metadata": {},
   "outputs": [
    {
     "data": {
      "text/plain": [
       "'Visa'"
      ]
     },
     "execution_count": 22,
     "metadata": {},
     "output_type": "execute_result"
    }
   ],
   "source": [
    "credit_card_industry(\"4539 0132 4843 4768\")"
   ]
  },
  {
   "cell_type": "code",
   "execution_count": 23,
   "metadata": {},
   "outputs": [
    {
     "data": {
      "text/plain": [
       "'Mastercard'"
      ]
     },
     "execution_count": 23,
     "metadata": {},
     "output_type": "execute_result"
    }
   ],
   "source": [
    "credit_card_industry(\"5131 9376 6800 4058\")"
   ]
  },
  {
   "cell_type": "code",
   "execution_count": 25,
   "metadata": {},
   "outputs": [
    {
     "data": {
      "text/plain": [
       "'Other'"
      ]
     },
     "execution_count": 25,
     "metadata": {},
     "output_type": "execute_result"
    }
   ],
   "source": [
    "credit_card_industry(\"9131 9376 6800 4058\")"
   ]
  },
  {
   "cell_type": "markdown",
   "metadata": {},
   "source": [
    "---\n",
    "## 4. Lists\n",
    "\n",
    "Create a `genres` variable with a list of 3 different movie genres as strings. Print the list."
   ]
  },
  {
   "cell_type": "code",
   "execution_count": 37,
   "metadata": {
    "tags": [
     "challengify"
    ]
   },
   "outputs": [
    {
     "data": {
      "text/plain": [
       "['Horror', 'Comedy', 'Fantasy']"
      ]
     },
     "execution_count": 37,
     "metadata": {},
     "output_type": "execute_result"
    }
   ],
   "source": [
    "# YOUR CODE HERE\n",
    "genres = ['Horror', 'Comedy', 'Fantasy']\n",
    "genres"
   ]
  },
  {
   "cell_type": "markdown",
   "metadata": {},
   "source": [
    "Add another genre to the list. Print the whole list."
   ]
  },
  {
   "cell_type": "code",
   "execution_count": 38,
   "metadata": {
    "tags": [
     "challengify"
    ]
   },
   "outputs": [
    {
     "data": {
      "text/plain": [
       "['Horror', 'Comedy', 'Fantasy', 'Drama']"
      ]
     },
     "execution_count": 38,
     "metadata": {},
     "output_type": "execute_result"
    }
   ],
   "source": [
    "# YOUR CODE HERE\n",
    "genres.append('Drama')\n",
    "genres"
   ]
  },
  {
   "cell_type": "markdown",
   "metadata": {},
   "source": [
    "Change the name of the second genre on the list. Print the whole list"
   ]
  },
  {
   "cell_type": "code",
   "execution_count": 39,
   "metadata": {
    "tags": [
     "challengify"
    ]
   },
   "outputs": [
    {
     "data": {
      "text/plain": [
       "['Horror', 'Adventure', 'Fantasy', 'Drama']"
      ]
     },
     "execution_count": 39,
     "metadata": {},
     "output_type": "execute_result"
    }
   ],
   "source": [
    "# YOUR CODE HERE\n",
    "genres[1] = 'Adventure'\n",
    "genres"
   ]
  },
  {
   "cell_type": "markdown",
   "metadata": {},
   "source": [
    "Print each genre (sorted) to the terminal following this format (use a for loop with enumerate):\n",
    "\n",
    "```\n",
    "1 - Action\n",
    "2 - Comedy\n",
    "3 - Drama\n",
    "4 - Thriller\n",
    "```"
   ]
  },
  {
   "cell_type": "code",
   "execution_count": 42,
   "metadata": {
    "tags": [
     "challengify"
    ]
   },
   "outputs": [
    {
     "name": "stdout",
     "output_type": "stream",
     "text": [
      "1 - Adventure\n",
      "2 - Drama\n",
      "3 - Fantasy\n",
      "4 - Horror\n"
     ]
    }
   ],
   "source": [
    "# YOUR CODE HERE\n",
    "for index, genre in enumerate(sorted(genres)):\n",
    "    print(f\"{index + 1} - {genre}\")\n",
    "    \n",
    "# genres.sort()\n",
    "# for index, genre in enumerate(genres):\n",
    "#     print(f\"{index + 1} - {genre}\")"
   ]
  },
  {
   "cell_type": "markdown",
   "metadata": {},
   "source": [
    "---\n",
    "## 5. Dictionaries\n",
    "\n",
    "Create a `movie` variable with a dictionary containing information about any movie. It should contain the keys `year` and `title` with appropriate values. You can get some inspiration on [IMDB](https://www.imdb.com/search/title/?count=100&groups=top_1000&sort=user_rating)"
   ]
  },
  {
   "cell_type": "code",
   "execution_count": 44,
   "metadata": {
    "tags": [
     "challengify"
    ]
   },
   "outputs": [],
   "source": [
    "# YOUR CODE HERE\n",
    "movie = {\n",
    "    'year': '1994',\n",
    "    'title': 'The Shawshank Redemption'\n",
    "}"
   ]
  },
  {
   "cell_type": "markdown",
   "metadata": {},
   "source": [
    "Add a `director` key to the dictonary with the appropriate value. Print the `movie` dictionary"
   ]
  },
  {
   "cell_type": "code",
   "execution_count": 45,
   "metadata": {
    "tags": [
     "challengify"
    ]
   },
   "outputs": [
    {
     "data": {
      "text/plain": [
       "{'year': '1994',\n",
       " 'title': 'The Shawshank Redemption',\n",
       " 'director': 'Frank Darabont'}"
      ]
     },
     "execution_count": 45,
     "metadata": {},
     "output_type": "execute_result"
    }
   ],
   "source": [
    "# YOUR CODE HERE\n",
    "movie['director'] = 'Frank Darabont'\n",
    "movie"
   ]
  },
  {
   "cell_type": "markdown",
   "metadata": {},
   "source": [
    "Create a `movies` variable and initialize it with an empty list."
   ]
  },
  {
   "cell_type": "code",
   "execution_count": 52,
   "metadata": {
    "tags": [
     "challengify"
    ]
   },
   "outputs": [],
   "source": [
    "# YOUR CODE HERE\n",
    "movies = []"
   ]
  },
  {
   "cell_type": "markdown",
   "metadata": {},
   "source": [
    "Add your `movie` to the list along with two more movies, with the same keys as the first one. Then print the entire list"
   ]
  },
  {
   "cell_type": "code",
   "execution_count": 53,
   "metadata": {
    "tags": [
     "challengify"
    ]
   },
   "outputs": [
    {
     "data": {
      "text/plain": [
       "[{'year': '1994',\n",
       "  'title': 'The Shawshank Redemption',\n",
       "  'director': 'Frank Darabont'},\n",
       " {'year': '1972',\n",
       "  'title': 'The Godfather',\n",
       "  'director': 'Francis Ford Coppola'}]"
      ]
     },
     "execution_count": 53,
     "metadata": {},
     "output_type": "execute_result"
    }
   ],
   "source": [
    "# YOUR CODE HERE\n",
    "another_movie = {\n",
    "    'year': '1972',\n",
    "    'title': 'The Godfather',\n",
    "    'director': 'Francis Ford Coppola'\n",
    "}\n",
    "movies.extend([movie, another_movie])\n",
    "movies"
   ]
  },
  {
   "cell_type": "markdown",
   "metadata": {},
   "source": [
    "Finally, print the `movies` list line by line in the terminal in the following format (using a `for` loop):\n",
    "```\n",
    "Terminator by James Cameron was released in 1984\n",
    "Godfather by Francis Ford Coppolla was released in 1972\n",
    "The Matrix by The Wachowski Brothers was released in 1999\n",
    "```"
   ]
  },
  {
   "cell_type": "code",
   "execution_count": 55,
   "metadata": {
    "tags": [
     "challengify"
    ]
   },
   "outputs": [
    {
     "name": "stdout",
     "output_type": "stream",
     "text": [
      "The Shawshank Redemption by Frank Darabont was released in 1994\n",
      "The Godfather by Francis Ford Coppola was released in 1972\n"
     ]
    }
   ],
   "source": [
    "# YOUR CODE HERE\n",
    "for movie in movies:\n",
    "    print(f\"{movie['title']} by {movie['director']} was released in {movie['year']}\")"
   ]
  },
  {
   "cell_type": "markdown",
   "metadata": {},
   "source": [
    "---\n",
    "## 6. Dictionaries + Lists\n",
    "\n",
    "Often when we're dealing with data, we have to find our way around a big dictionary. This can be a bit intimidating at first. But have no fear, once you get the hang of it, it's quite comfortable to navigate. When we're dealing with bigger dictionaries, it's important to take the time and read through it, knowing what kind of data types are stored and what structure it has. \n",
    "\n",
    "It's often a small subset of the information we're interested in looking at, so we need to know how to precisely access it. Start by running the cell below:"
   ]
  },
  {
   "cell_type": "markdown",
   "metadata": {},
   "source": [
    "What does `movie['actors']['support'][2]` return?"
   ]
  },
  {
   "cell_type": "code",
   "execution_count": 61,
   "metadata": {},
   "outputs": [
    {
     "name": "stdout",
     "output_type": "stream",
     "text": [
      "movie is defined!\n"
     ]
    }
   ],
   "source": [
    "movie = {\n",
    "    'title': { 'en': 'The Dark Knight', 'fr': 'Le Chevalier Noir' },\n",
    "    'year': 2008,\n",
    "    'director': 'Christopher Nolan',\n",
    "    'rating': 'PG-13',\n",
    "    'plot': {\n",
    "        'en': 'The Batman is out for blood',\n",
    "        'fr': 'Batman est de retour, plus vénère que jamais'\n",
    "    },\n",
    "    'box office USD': {'USA': 535_234_033, 'rest_of_world': 469_700_000 },\n",
    "    'actors': {\n",
    "        'lead': ['Christian Bale', 'Heath Ledger'],\n",
    "        'support': ['Aaron Eckhardt', 'Morgan Freeman', 'Gary Oldman', 'Maggie Gyllenhaal' ]\n",
    "    }\n",
    "}\n",
    "print(\"movie is defined!\")"
   ]
  },
  {
   "cell_type": "markdown",
   "metadata": {},
   "source": [
    "Try to guess the answer to the questions without writing any code. Then try the code out for yourself to test your theory.\n",
    "\n",
    "What does `movie['title']['fr']` return? "
   ]
  },
  {
   "cell_type": "code",
   "execution_count": 62,
   "metadata": {},
   "outputs": [
    {
     "data": {
      "text/plain": [
       "'Le Chevalier Noir'"
      ]
     },
     "execution_count": 62,
     "metadata": {},
     "output_type": "execute_result"
    }
   ],
   "source": [
    "movie['title']['fr']"
   ]
  },
  {
   "cell_type": "markdown",
   "metadata": {},
   "source": [
    "What does `movie['title']['es']` return?"
   ]
  },
  {
   "cell_type": "code",
   "execution_count": 64,
   "metadata": {},
   "outputs": [
    {
     "data": {
      "text/plain": [
       "'Language not available'"
      ]
     },
     "execution_count": 64,
     "metadata": {},
     "output_type": "execute_result"
    }
   ],
   "source": [
    "movie['title'].get('es', 'Language not available')"
   ]
  },
  {
   "cell_type": "code",
   "execution_count": 65,
   "metadata": {},
   "outputs": [
    {
     "data": {
      "text/plain": [
       "'Gary Oldman'"
      ]
     },
     "execution_count": 65,
     "metadata": {},
     "output_type": "execute_result"
    }
   ],
   "source": [
    "movie['actors']['support'][2]"
   ]
  },
  {
   "cell_type": "markdown",
   "metadata": {},
   "source": [
    "### Optional \n",
    "\n",
    "Find a way to extract one list containing all the actors from the movie."
   ]
  },
  {
   "cell_type": "code",
   "execution_count": 72,
   "metadata": {
    "tags": [
     "challengify"
    ]
   },
   "outputs": [
    {
     "data": {
      "text/plain": [
       "['Christian Bale',\n",
       " 'Heath Ledger',\n",
       " 'Aaron Eckhardt',\n",
       " 'Morgan Freeman',\n",
       " 'Gary Oldman',\n",
       " 'Maggie Gyllenhaal']"
      ]
     },
     "execution_count": 72,
     "metadata": {},
     "output_type": "execute_result"
    }
   ],
   "source": [
    "# YOUR CODE HERE\n",
    "movie['actors']['lead'] + movie['actors']['support']"
   ]
  },
  {
   "cell_type": "markdown",
   "metadata": {},
   "source": [
    "Try to calculate the total box office of the movie from `movie`"
   ]
  },
  {
   "cell_type": "code",
   "execution_count": 76,
   "metadata": {
    "tags": [
     "challengify"
    ]
   },
   "outputs": [
    {
     "data": {
      "text/plain": [
       "1004934033"
      ]
     },
     "execution_count": 76,
     "metadata": {},
     "output_type": "execute_result"
    }
   ],
   "source": [
    "# YOUR CODE HERE\n",
    "sum(list(movie['box office USD'].values()))"
   ]
  },
  {
   "cell_type": "markdown",
   "metadata": {},
   "source": [
    "Would the code above still work with the following Box Office. How would you compute the total Box Office using a `for` loop?"
   ]
  },
  {
   "cell_type": "code",
   "execution_count": 77,
   "metadata": {},
   "outputs": [
    {
     "name": "stdout",
     "output_type": "stream",
     "text": [
      "{'US': 200000000, 'EU': 85000000, 'China': 110000000}\n"
     ]
    }
   ],
   "source": [
    "box_office = {\"US\": 200_000_000, \"EU\": 85_000_000, \"China\": 110_000_000}\n",
    "print(box_office)"
   ]
  },
  {
   "cell_type": "code",
   "execution_count": 82,
   "metadata": {
    "tags": [
     "challengify"
    ]
   },
   "outputs": [
    {
     "data": {
      "text/plain": [
       "395000000"
      ]
     },
     "execution_count": 82,
     "metadata": {},
     "output_type": "execute_result"
    }
   ],
   "source": [
    "# YOUR CODE HERE\n",
    "sum(box_office.values())"
   ]
  },
  {
   "cell_type": "code",
   "execution_count": 83,
   "metadata": {},
   "outputs": [
    {
     "data": {
      "text/plain": [
       "200000"
      ]
     },
     "execution_count": 83,
     "metadata": {},
     "output_type": "execute_result"
    }
   ],
   "source": [
    "20_0000"
   ]
  },
  {
   "cell_type": "code",
   "execution_count": null,
   "metadata": {},
   "outputs": [],
   "source": []
  }
 ],
 "metadata": {
  "kernelspec": {
   "display_name": "Python 3 (ipykernel)",
   "language": "python",
   "name": "python3"
  },
  "language_info": {
   "codemirror_mode": {
    "name": "ipython",
    "version": 3
   },
   "file_extension": ".py",
   "mimetype": "text/x-python",
   "name": "python",
   "nbconvert_exporter": "python",
   "pygments_lexer": "ipython3",
   "version": "3.8.3"
  }
 },
 "nbformat": 4,
 "nbformat_minor": 4
}
